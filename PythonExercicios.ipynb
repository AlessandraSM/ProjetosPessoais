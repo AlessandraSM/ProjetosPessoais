{
  "nbformat": 4,
  "nbformat_minor": 0,
  "metadata": {
    "colab": {
      "provenance": [],
      "authorship_tag": "ABX9TyNuWV2DekHnAPMK2aAHswd0",
      "include_colab_link": true
    },
    "kernelspec": {
      "name": "python3",
      "display_name": "Python 3"
    },
    "language_info": {
      "name": "python"
    }
  },
  "cells": [
    {
      "cell_type": "markdown",
      "metadata": {
        "id": "view-in-github",
        "colab_type": "text"
      },
      "source": [
        "<a href=\"https://colab.research.google.com/github/AlessandraSM/ProjetosPessoais/blob/main/PythonExercicios.ipynb\" target=\"_parent\"><img src=\"https://colab.research.google.com/assets/colab-badge.svg\" alt=\"Open In Colab\"/></a>"
      ]
    },
    {
      "cell_type": "code",
      "execution_count": null,
      "metadata": {
        "colab": {
          "base_uri": "https://localhost:8080/"
        },
        "id": "sdRSYHDbMBVr",
        "outputId": "efed71bb-9999-44bd-84e8-61ffce770a42"
      },
      "outputs": [
        {
          "output_type": "stream",
          "name": "stdout",
          "text": [
            "Digite um valor para a:2\n",
            "Digite um valor para b:2\n",
            "Digite um valor para c:1\n",
            "a + b = 4\n",
            "a + c = 3\n"
          ]
        }
      ],
      "source": [
        "def Soma (X, Y):\n",
        "  R = X + Y\n",
        "  return R\n",
        "\n",
        "a = int(input('Digite um valor para a:'))\n",
        "b = int(input('Digite um valor para b:'))\n",
        "c = int(input('Digite um valor para c:'))\n",
        "\n",
        "calcula = Soma (a, b)\n",
        "print('a + b = {0}'.format(calcula))#chamo a variavel que guarda o paramentro\n",
        "\n",
        "calcula = Soma (a, c)#parâmetro\n",
        "print('a + c = {0}'.format(calcula))"
      ]
    },
    {
      "cell_type": "code",
      "source": [
        "def LerInteiro():\n",
        "    n = int(input('Digite um número inteiro:'))\n",
        "    return n\n",
        "\n",
        "x = LerInteiro()\n",
        "print('Valor lido na função = {0}'.format(x))"
      ],
      "metadata": {
        "colab": {
          "base_uri": "https://localhost:8080/"
        },
        "id": "xMRoTjczPVF_",
        "outputId": "a60018a7-cf67-4d27-e725-72fc54c15151"
      },
      "execution_count": null,
      "outputs": [
        {
          "output_type": "stream",
          "name": "stdout",
          "text": [
            "Digite um número inteiro:2\n",
            "Valor lido na função = 2\n"
          ]
        }
      ]
    },
    {
      "cell_type": "markdown",
      "source": [
        "def nome_func(parametros):\n",
        "  bloco\n",
        "  return"
      ],
      "metadata": {
        "id": "0GK-Hk0uUoL1"
      }
    },
    {
      "cell_type": "code",
      "source": [
        "def minhafuncao():\n",
        "    print('Oi, mundo!')"
      ],
      "metadata": {
        "id": "buuaMqKvUcKe"
      },
      "execution_count": null,
      "outputs": []
    },
    {
      "cell_type": "code",
      "source": [
        "minhafuncao()#encapsulamento trouxe um conjunto de código pra dentro da função"
      ],
      "metadata": {
        "colab": {
          "base_uri": "https://localhost:8080/"
        },
        "id": "Vsfhsn2lU8CN",
        "outputId": "38564793-3c0c-419f-d893-9289025ac954"
      },
      "execution_count": null,
      "outputs": [
        {
          "output_type": "stream",
          "name": "stdout",
          "text": [
            "Oi, mundo!\n"
          ]
        }
      ]
    },
    {
      "cell_type": "code",
      "source": [
        "def soma(a, b): #passo parametros para a função\n",
        "    print(a + b)# nesse caso ela imprime na tela o resultado\n",
        "\n",
        "soma(2,4)"
      ],
      "metadata": {
        "colab": {
          "base_uri": "https://localhost:8080/"
        },
        "id": "4MPjifDNVSGV",
        "outputId": "320b16c5-d538-4421-b8d8-33a7b6e13e9d"
      },
      "execution_count": null,
      "outputs": [
        {
          "output_type": "stream",
          "name": "stdout",
          "text": [
            "6\n"
          ]
        }
      ]
    },
    {
      "cell_type": "code",
      "source": [
        "def somar(x, y): #defino um bloco de código por isso def ao invés de function/javascript\n",
        "    return x + y #retorna um valor para essa função\n",
        "\n",
        "result = somar(2, 4)\n",
        "print(result)"
      ],
      "metadata": {
        "colab": {
          "base_uri": "https://localhost:8080/"
        },
        "id": "TspfMAviWZBM",
        "outputId": "1b63699f-23b9-4146-bf9e-833a2bbd5bb2"
      },
      "execution_count": null,
      "outputs": [
        {
          "output_type": "stream",
          "name": "stdout",
          "text": [
            "6\n"
          ]
        }
      ]
    },
    {
      "cell_type": "code",
      "source": [
        "def imprimeNome(nomePessoa):\n",
        "    print('O usuário' + ' ' + nomePessoa + ' ' + 'escreveu uma mensagem.')\n",
        "\n",
        "nome = input('Digite o seu nome')\n",
        "imprimeNome(nome)"
      ],
      "metadata": {
        "colab": {
          "base_uri": "https://localhost:8080/"
        },
        "id": "qZbqeiAlXPVH",
        "outputId": "5898cc52-7ea7-4d89-96f3-e06e7b1c8cf6"
      },
      "execution_count": null,
      "outputs": [
        {
          "output_type": "stream",
          "name": "stdout",
          "text": [
            "Digite o seu nomeAlessandra\n",
            "O usuário Alessandra escreveu uma mensagem.\n"
          ]
        }
      ]
    },
    {
      "cell_type": "code",
      "source": [
        "def retornaMultiplicacao (a, b, c):\n",
        "    produto = a * b * c\n",
        "    return produto\n",
        "\n",
        "number1 = float(input('Digite o primeiro número: '))\n",
        "number2 = float(input('Digite o segundo número: '))\n",
        "number3 = float(input('Digite o terceiro número: '))\n",
        "\n",
        "resultado = retornaMultiplicacao(number1, number2, number3)\n",
        "print(f'A multiplicação dos números é: {resultado}')"
      ],
      "metadata": {
        "colab": {
          "base_uri": "https://localhost:8080/"
        },
        "id": "Gm1wmWxXbW5W",
        "outputId": "42ed546f-8959-4ae3-cb45-b42de89346ff"
      },
      "execution_count": null,
      "outputs": [
        {
          "output_type": "stream",
          "name": "stdout",
          "text": [
            "Digite o primeiro número: 2\n",
            "Digite o segundo número: 2\n",
            "Digite o terceiro número: 3\n",
            "A multiplicação dos números é: 12.0\n"
          ]
        }
      ]
    },
    {
      "cell_type": "code",
      "source": [
        "def calcular_numero(a, b, c):\n",
        "    produto = a + b + c\n",
        "    return produto\n",
        "\n",
        "# Exemplo de uso da função\n",
        "numero1 = float(input(\"Digite o primeiro número: \"))\n",
        "numero2 = float(input(\"Digite o segundo número: \"))\n",
        "numero3 = float(input(\"Digite o terceiro número: \"))\n",
        "\n",
        "resultado = calcular_numero(numero1, numero2, numero3)\n",
        "print(f\"A soma dos números é: {resultado}\")\n"
      ],
      "metadata": {
        "colab": {
          "base_uri": "https://localhost:8080/"
        },
        "id": "nga74lIYb8Z1",
        "outputId": "06ffd51c-e570-41cf-bf0a-03d1905f95e3"
      },
      "execution_count": null,
      "outputs": [
        {
          "output_type": "stream",
          "name": "stdout",
          "text": [
            "Digite o primeiro número: 1\n",
            "Digite o segundo número: 2\n",
            "Digite o terceiro número: 3\n",
            "A soma dos números é: 6.0\n"
          ]
        }
      ]
    },
    {
      "cell_type": "code",
      "source": [
        "#ESCOPO DA VARIÁVEL LOCAL VISUALIZADO DENTRO DAQUELE CÓDIGO OU GLOBAL ONDE TODO O CÓDIGO ENXERGA ELA\n",
        "nomeEmpresa = 'Brasil TI Company'\n",
        "\n",
        "def imprimeCabecalho():\n",
        "    print(nomeEmpresa)\n",
        "    print('_' * len(nomeEmpresa))\n",
        "\n",
        "imprimeCabecalho()"
      ],
      "metadata": {
        "colab": {
          "base_uri": "https://localhost:8080/"
        },
        "id": "Xzf5YJUpGQZu",
        "outputId": "0b6bdb6c-abe4-4277-9120-dc8bdd8516ab"
      },
      "execution_count": null,
      "outputs": [
        {
          "output_type": "stream",
          "name": "stdout",
          "text": [
            "Brasil TI Company\n",
            "_________________\n"
          ]
        }
      ]
    },
    {
      "cell_type": "code",
      "source": [
        "a = 5 #VARIÁVEL GLOBAL\n",
        "\n",
        "def mudaImprime():\n",
        "    a = 7 #TODA VARIÁVEL DECLARADA DENTRO DE UMA FUNÇÃO ELA TEM ESCOPO SÓ DENTRO DA FUNÇÃO SÓ NO BLOCO ENQUANTO ELA ESTIVER SENDO EXECUTADA\n",
        "    print(f'A dentro da função: {a}')\n",
        "\n",
        "print(f'A antes de mudar: {a}')\n",
        "print(f'A depois de mudar: {a}')"
      ],
      "metadata": {
        "id": "V-OTI3OlHNVR"
      },
      "execution_count": null,
      "outputs": []
    },
    {
      "cell_type": "code",
      "source": [
        "a = 5 #VARIÁVEL GLOBAL\n",
        "\n",
        "def mudaImprime():\n",
        "    global a # REFERENCIO COM A PALAVRA RESERVADA GLOBAL\n",
        "    a = 7 #TODA VARIÁVEL DECLARADA DENTRO DE UMA FUNÇÃO ELA TEM ESCOPO SÓ DENTRO DA FUNÇÃO SÓ NO BLOCO ENQUANTO ELA ESTIVER SENDO EXECUTADA\n",
        "    print(f'A dentro da função: {a}')\n",
        "\n",
        "print(f'A antes de mudar: {a}')\n",
        "print(f'A depois de mudar: {a}')"
      ],
      "metadata": {
        "id": "zyhaaRRIIUVy"
      },
      "execution_count": null,
      "outputs": []
    },
    {
      "cell_type": "markdown",
      "source": [
        "ACESSAR UMA VARIÁVEL QUE NÃO FAZ PARTE DA FUNÇÃO!!!"
      ],
      "metadata": {
        "id": "LeHefT_PImF-"
      }
    },
    {
      "cell_type": "code",
      "source": [
        "#PARÂMETROS PARA AS FUNÇÕES E QUANDO NÃO NOMEIO O PARÂMETRO NAO CONSIGO MUDAR SUA ORDEM TENDO DE SEGUIR A SEQUENCIA EXATA\n",
        "\n",
        "def retangulo(largura, altura, caractere = '*'):\n",
        "    linha = caractere * largura\n",
        "    for i in range(altura):\n",
        "        print(linha)\n",
        "\n",
        "retangulo(altura=2, largura=2, caractere='@')"
      ],
      "metadata": {
        "colab": {
          "base_uri": "https://localhost:8080/"
        },
        "id": "BZ0LGaqe3Gwf",
        "outputId": "6dae1bdc-1e69-44fc-c73d-cb19d7c4086e"
      },
      "execution_count": null,
      "outputs": [
        {
          "output_type": "stream",
          "name": "stdout",
          "text": [
            "@@\n",
            "@@\n"
          ]
        }
      ]
    },
    {
      "cell_type": "code",
      "source": [
        "def soma(a, b , imprime=True):\n",
        "    aux = a + b\n",
        "    if imprime:\n",
        "        print(aux)\n",
        "    return aux\n",
        "\n",
        "soma(2, 4)"
      ],
      "metadata": {
        "colab": {
          "base_uri": "https://localhost:8080/"
        },
        "id": "AYQbxm6Y4mtR",
        "outputId": "22c51c82-34ff-4c12-96fe-fee7c6c98f36"
      },
      "execution_count": null,
      "outputs": [
        {
          "output_type": "stream",
          "name": "stdout",
          "text": [
            "6\n"
          ]
        },
        {
          "output_type": "execute_result",
          "data": {
            "text/plain": [
              "6"
            ]
          },
          "metadata": {},
          "execution_count": 5
        }
      ]
    },
    {
      "cell_type": "code",
      "source": [
        "#MODULARIZAÇÃO DE CÓDIGOS EM PYTHON\n",
        "\n",
        "#OPÇÃO 1\n",
        "\n",
        "import nome_arquivo\n",
        "\n",
        "nome_arquivo.nome_funcao\n",
        "\n",
        "#OPÇÃO2\n",
        "\n",
        "from nome_arquivo import nome_funcao\n",
        "\n",
        "nome_funcao"
      ],
      "metadata": {
        "id": "JW3Fpyyq5WOR"
      },
      "execution_count": null,
      "outputs": []
    },
    {
      "cell_type": "markdown",
      "source": [
        "LISTA EM PYTHON"
      ],
      "metadata": {
        "id": "VcWYdlezlBKS"
      }
    },
    {
      "cell_type": "code",
      "source": [
        "#Array com dados -1 traz a ultima posição na lista\n",
        "#quantidade de itens dentro do array\n",
        "\n",
        "frutas = ['maça', 'banana', 'mamão', 'uva']\n",
        "print(len(frutas))\n",
        "print(frutas[1])\n"
      ],
      "metadata": {
        "colab": {
          "base_uri": "https://localhost:8080/"
        },
        "id": "PINwmQX_lDyx",
        "outputId": "3a975c28-15fb-40a8-eb81-4e639db18e25"
      },
      "execution_count": null,
      "outputs": [
        {
          "output_type": "stream",
          "name": "stdout",
          "text": [
            "4\n",
            "banana\n"
          ]
        }
      ]
    },
    {
      "cell_type": "code",
      "source": [
        "#ADICIONANDO E REMOVENDO ELEMENTOS DA LISTA\n",
        "\n",
        "frutas =  ['maça', 'banana', 'mamão', 'uva']\n",
        "frutas[0] = 'morango'#troca maça por morango\n",
        "frutas.append('jaca')#adiciona ao final da lista jaca\n",
        "frutas.remove('banana')#removendo da lista a palavra banana\n",
        "frutas.pop(0)#removendo elementos da lista pelo indice\n",
        "frutas"
      ],
      "metadata": {
        "colab": {
          "base_uri": "https://localhost:8080/"
        },
        "id": "E25mGixwmODB",
        "outputId": "48e1ec1a-8300-4176-9cdd-5bcd4e538556"
      },
      "execution_count": null,
      "outputs": [
        {
          "output_type": "execute_result",
          "data": {
            "text/plain": [
              "['mamão', 'uva', 'jaca']"
            ]
          },
          "metadata": {},
          "execution_count": 9
        }
      ]
    },
    {
      "cell_type": "code",
      "source": [
        "#Fila e Pilha utilizando lista\n",
        "\n",
        "#Simulação de uma fila de banco\n",
        "ultimo = 5\n",
        "fila = list(range(1, ultimo+1))\n",
        "print(fila)\n",
        "while True: #enquanto isso for verdade\n",
        "    print(f'\\nExistem {len(fila)} clientes na fila.')\n",
        "    print('Digite F para adicionar um cliente ao fim da fila,')\n",
        "    print('ou A para realizar o atendimento. S para sair.')\n",
        "    operacao = input('Operação( F, A ou S):')\n",
        "    if operacao == 'A':\n",
        "      if len(fila) > 0:\n",
        "         atendido = fila.pop(0)\n",
        "         print(f'Cliente {atendido} atendido.')\n",
        "      else:\n",
        "          print('Fila vazia! Ninguém para atender.')\n",
        "    elif operacao == 'F':\n",
        "      ultimo += 1 #incrementa o ticket do novo cliente\n",
        "      fila.append(ultimo)\n",
        "    elif operacao == 'S':\n",
        "      break\n",
        "    else:\n",
        "        print('Operação inválida! Digite apenas F, A ou S!')\n",
        "\n"
      ],
      "metadata": {
        "id": "OWudZXB1os03"
      },
      "execution_count": null,
      "outputs": []
    },
    {
      "cell_type": "code",
      "source": [
        "#SIMULAÇÃO DE UMA PILHA DE PRATOS\n",
        "\n",
        "prato = 3\n",
        "pilha = list(range(1, prato+1))\n",
        "while True:\n",
        "    print(f'\\nExistem {len(pilha)} pratos na pilha.')\n",
        "    print(f'Pilha atual: {pilha}')\n",
        "    print('Digite E para empilhar um novo prato,')\n",
        "    print('ou D para desempilhar. S para sair.')\n",
        "    operacao = input('Operação (E, D ou S):')\n",
        "    if operacao == 'D':\n",
        "      if len(pilha) > 0:\n",
        "          lavado = pilha.pop(-1)\n",
        "          print(f'Prato {lavado} lavado.')\n",
        "      else:\n",
        "          print('Pilha vazia! Nada para lavar.')\n",
        "    elif operacao =='E':\n",
        "        prato += 1 #novo prato\n",
        "        pilha.append(prato)\n",
        "    elif operacao == 'S':\n",
        "        break\n",
        "    else:\n",
        "        print('Operacao inválida! Digite apenas E, D ou S!')"
      ],
      "metadata": {
        "id": "V9yrJsOPwxSY"
      },
      "execution_count": null,
      "outputs": []
    },
    {
      "cell_type": "code",
      "source": [
        "clientes = ['Ana', 'Mario', 'Pedro', 'José']\n",
        "for cliente in clientes:\n",
        "    print(cliente)"
      ],
      "metadata": {
        "id": "kJ3cPg8WzY-E"
      },
      "execution_count": null,
      "outputs": []
    },
    {
      "cell_type": "code",
      "source": [
        "#PESQUISA SEQUENCIAL EM LISTA\n",
        "\n",
        "clientes = ['Ana', 'Mario', 'Pedro', 'José']\n",
        "\n",
        "buscar = input('Digite o nome para localizar:')\n",
        "\n",
        "for cliente in clientes:\n",
        "    if cliente == buscar:\n",
        "        print('Cliente cadastrado!')\n",
        "        break\n",
        "    else:\n",
        "        print('Não encontrado!')\n"
      ],
      "metadata": {
        "colab": {
          "base_uri": "https://localhost:8080/"
        },
        "id": "c_7zrNnH0Vmx",
        "outputId": "634efaa2-b451-49c6-8489-92d08d6921e5"
      },
      "execution_count": null,
      "outputs": [
        {
          "output_type": "stream",
          "name": "stdout",
          "text": [
            "Digite o nome para localizar:Ana\n",
            "Cliente cadastrado!\n"
          ]
        }
      ]
    },
    {
      "cell_type": "code",
      "source": [
        "candidatos = ['José', 'João', 'Cibelly', 'Sonivaldo','Dariane']\n",
        "candidatos[-2]"
      ],
      "metadata": {
        "colab": {
          "base_uri": "https://localhost:8080/",
          "height": 36
        },
        "id": "PU0pESnN2jpH",
        "outputId": "9720eb0a-8872-47c8-ca31-9dc32c1331a6"
      },
      "execution_count": null,
      "outputs": [
        {
          "output_type": "execute_result",
          "data": {
            "text/plain": [
              "'Sonivaldo'"
            ],
            "application/vnd.google.colaboratory.intrinsic+json": {
              "type": "string"
            }
          },
          "metadata": {},
          "execution_count": 18
        }
      ]
    },
    {
      "cell_type": "code",
      "source": [
        "lista = [1,2,3,4,5,6,7,8,9]\n",
        "print(lista[5])"
      ],
      "metadata": {
        "colab": {
          "base_uri": "https://localhost:8080/"
        },
        "id": "GHv-qtGj2__j",
        "outputId": "397e8d0b-abf2-4ad3-9f9f-4587c7041d73"
      },
      "execution_count": null,
      "outputs": [
        {
          "output_type": "stream",
          "name": "stdout",
          "text": [
            "6\n"
          ]
        }
      ]
    },
    {
      "cell_type": "code",
      "source": [
        "#DICIONÁRIOS\n",
        "tabProdutos = { 'Alface': 0.45,\n",
        "                'Batata': 1.20,\n",
        "                'Tomate': 2.30,\n",
        "                'Feijão': 1.50}\n",
        "tabProdutos['Tomate']\n",
        "tabProdutos['Tomate'] = 2.90 #Alterando o valor do Tomate\n",
        "tabProdutos['Arroz'] = 5.90 #Basta fazer a referencia ao produto que não existe\n",
        "tabProdutos #Tudo ja fica ordenado!"
      ],
      "metadata": {
        "colab": {
          "base_uri": "https://localhost:8080/"
        },
        "id": "FjR1aIGM6Ndn",
        "outputId": "33d97166-2fc2-4c92-faae-e97ed7dca9e8"
      },
      "execution_count": null,
      "outputs": [
        {
          "output_type": "execute_result",
          "data": {
            "text/plain": [
              "{'Alface': 0.45, 'Batata': 1.2, 'Tomate': 2.9, 'Feijão': 1.5, 'Arroz': 5.9}"
            ]
          },
          "metadata": {},
          "execution_count": 4
        }
      ]
    },
    {
      "cell_type": "code",
      "source": [
        "#DICIONÁRIOS COM LISTAS\n",
        "tabProdutos = { 'Alface': 0.45,\n",
        "                'Batata': 1.20,\n",
        "                'Tomate': 2.30,\n",
        "                'Feijão': 1.50}\n",
        "tabProdutos['Arroz'] = 5.90\n",
        "#tabProdutos.keys()#Retorna uma lista um array com itens dentro\n",
        "tabProdutos.get('Feijão')#Traz o valor da chave mesma coisa que acessao tabProdutos['Feijao]\n",
        "tabProdutos.values()#traz em formato de arry de lista apenas os valores\n",
        "tabProdutos.items()#permite que retorne alguns elementos do dicionario transforme em lista uma lista com tupla\n",
        "del tabProdutos['Batata']#deletando apenas a batata\n",
        "tabProdutos"
      ],
      "metadata": {
        "id": "nGoaGqPH6WZr",
        "colab": {
          "base_uri": "https://localhost:8080/"
        },
        "outputId": "2af42eb9-78d2-44ef-b262-869366d8629f"
      },
      "execution_count": null,
      "outputs": [
        {
          "output_type": "execute_result",
          "data": {
            "text/plain": [
              "{'Alface': 0.45, 'Batata': 1.2, 'Tomate': 2.3, 'Feijão': 1.5, 'Arroz': 5.9}"
            ]
          },
          "metadata": {},
          "execution_count": 11
        }
      ]
    },
    {
      "cell_type": "code",
      "source": [
        "#OPERAÇÕES COM DICIONÁRIOS\n",
        "#Produto | Qtd Estoque | pREÇO\n",
        "estoque = { 'Alface': [20, 0.45],\n",
        "            'Batata': [10, 1.20],\n",
        "            'Tomate': [22, 2.30],\n",
        "            'Feijão': [50, 1.50]}\n",
        "\n",
        "estoque['Tomate'] [0] #No elemento Tomente retorno o estoque e o preço mas para pegar o indice é necessário informar sua posição [0] tenho estoque [1] preço"
      ],
      "metadata": {
        "colab": {
          "base_uri": "https://localhost:8080/"
        },
        "id": "8yW0NM8FF5e9",
        "outputId": "6d5bc6ea-f55e-47a4-838b-446b40b7eb4f"
      },
      "execution_count": null,
      "outputs": [
        {
          "output_type": "execute_result",
          "data": {
            "text/plain": [
              "22"
            ]
          },
          "metadata": {},
          "execution_count": 13
        }
      ]
    },
    {
      "cell_type": "code",
      "source": [
        "mydict = {\"cat\":12, \"dog\":6, \"elephant\":23}\n",
        "print(mydict[\"dog\"])"
      ],
      "metadata": {
        "colab": {
          "base_uri": "https://localhost:8080/"
        },
        "id": "JGAsKDzVHZ41",
        "outputId": "1de8cd49-ffd5-4c3c-ab5d-c245328ed6fc"
      },
      "execution_count": null,
      "outputs": [
        {
          "output_type": "stream",
          "name": "stdout",
          "text": [
            "6\n"
          ]
        }
      ]
    },
    {
      "cell_type": "code",
      "source": [
        "mydict = {\"cat\":12, \"dog\":6, \"elephant\":23}\n",
        "mydict[\"mouse\"] = mydict[\"cat\"] + mydict[\"dog\"]\n",
        "print(mydict[\"mouse\"])"
      ],
      "metadata": {
        "colab": {
          "base_uri": "https://localhost:8080/"
        },
        "id": "0ubrMEr6H-Nx",
        "outputId": "d5470932-2ee4-4904-93e4-f32d959f05cc"
      },
      "execution_count": null,
      "outputs": [
        {
          "output_type": "stream",
          "name": "stdout",
          "text": [
            "18\n"
          ]
        }
      ]
    },
    {
      "cell_type": "code",
      "source": [
        "mydict = {\"cat\":12, \"dog\":6, \"elephant\":23, \"bear\":20}\n",
        "yourdict = mydict\n",
        "yourdict[\"elephant\"] = 999\n",
        "print(mydict[\"elephant\"])"
      ],
      "metadata": {
        "colab": {
          "base_uri": "https://localhost:8080/"
        },
        "id": "FO-MqNOmLGsG",
        "outputId": "49367980-07b4-4ee1-fb71-f46f87562c87"
      },
      "execution_count": null,
      "outputs": [
        {
          "output_type": "stream",
          "name": "stdout",
          "text": [
            "999\n"
          ]
        }
      ]
    },
    {
      "cell_type": "code",
      "source": [
        "#PRIMEIRA TENTATIVA CÓDIGO MUITO REPETITIVO\n",
        "\n",
        "import random\n",
        "\n",
        "nome = input('Digite o seu nome')\n",
        "print (f'Agora vou selecionar algumas cartas de um baralho para {nome} jogar.')\n",
        "\n",
        "listaCopas = [1, 2, 3, 4, 5, 6, 7, 8, 9, 10, 11, 12, 13]\n",
        "copas = random.choice(listaCopas)\n",
        "\n",
        "listaPaus = [1, 2, 3, 4, 5, 6, 7, 8, 9, 10, 11, 12, 13]\n",
        "paus = random.choice(listaCopas)\n",
        "\n",
        "\n",
        "listaEspadas = [1, 2, 3, 4, 5, 6, 7, 8, 9, 10, 11, 12, 13]\n",
        "espadas = random.choice(listaCopas)\n",
        "\n",
        "listaOuros = [1, 2, 3, 4, 5, 6, 7, 8, 9, 10, 11, 12, 13]\n",
        "ouros = random.choice(listaCopas)\n",
        "\n",
        "\n",
        "\n",
        "print(f'Cartas aleatórias {copas} de Copas .')\n",
        "print(f'Cartas aleatórias {ouros} de Ouros .')\n",
        "print(f'Cartas aleatórias {espadas} de Espadas.')\n",
        "print(f'Cartas aleatórias {paus} de Paus.')\n",
        "\n",
        "\n",
        "print(f'Estas são as suas cartas da vez {copas, paus, espadas, ouros}')\n",
        "\n",
        "\n"
      ],
      "metadata": {
        "colab": {
          "base_uri": "https://localhost:8080/"
        },
        "id": "r8RpnBVDigyd",
        "outputId": "4fb4665c-5cd8-41f4-af2d-8e8743316585"
      },
      "execution_count": null,
      "outputs": [
        {
          "output_type": "stream",
          "name": "stdout",
          "text": [
            "Digite o seu nomeAle\n",
            "Agora vou selecionar algumas cartas de um baralho para Ale jogar.\n",
            "Cartas aleatórias 13 de Copas .\n",
            "Cartas aleatórias 5 de Ouros .\n",
            "Cartas aleatórias 3 de Espadas.\n",
            "Cartas aleatórias 2 de Paus.\n",
            "Quinta Carta [13, 2, 3, 5]\n",
            "Estas são as suas cartas da vez (13, 2, 3, 5)\n"
          ]
        }
      ]
    },
    {
      "cell_type": "code",
      "source": [
        "import random #Entendendo como funciona o método radom random.choice\n",
        "lista = ['A', 'B', 'C']\n",
        "elemento = random.choice(lista)\n",
        "print(f'meu sistema {elemento}')"
      ],
      "metadata": {
        "colab": {
          "base_uri": "https://localhost:8080/"
        },
        "id": "iXRA0sl-pXZn",
        "outputId": "ea026350-5557-450a-d512-57fd7a810c80"
      },
      "execution_count": null,
      "outputs": [
        {
          "output_type": "stream",
          "name": "stdout",
          "text": [
            "meu sistema B\n"
          ]
        }
      ]
    },
    {
      "cell_type": "code",
      "source": [
        "#Diante disso, quais recursos da linguagem de programação Python e técnicas de programação você utilizaria para criar um programa de computador que simulasse a distribuição\n",
        "# de cartas de um baralho?\n",
        "#Um baralho de cartas padrão contém um conjunto de 52 cartas (13 cartas de cada um dos quatro naipes). Como poderíamos criar um programa para escolher aleatoriamente\n",
        "#cinco cartas para adicionar à mão de um jogador?\n",
        "\n",
        "cartas = [1, 2, 3, 4, 5, 6, 7, 8, 9, 10, 11, 12, 13]\n",
        "naipes = ['ouros', 'espada', 'paus', 'copas']\n",
        "primeiraCarta = str(random.choice(cartas)) + ' de ' + str(random.choice(naipes))\n",
        "segundaCarta = str(random.choice(cartas)) + ' de ' + str(random.choice(naipes))\n",
        "terceiraCarta = str(random.choice(cartas)) + ' de ' + str(random.choice(naipes))\n",
        "quartaCarta = str(random.choice(cartas)) + ' de ' + str(random.choice(naipes))\n",
        "quintaCarta = str(random.choice(cartas)) + ' de ' + str(random.choice(naipes))\n",
        "\n",
        "print(primeiraCarta)\n",
        "print(segundaCarta)\n",
        "print(terceiraCarta)\n",
        "print(quartaCarta)\n",
        "print(quintaCarta)\n",
        "\n",
        "\n",
        "\n",
        "\n",
        "\n"
      ],
      "metadata": {
        "colab": {
          "base_uri": "https://localhost:8080/"
        },
        "id": "3dwXl2PwwbR2",
        "outputId": "4da4d3e3-b9e7-4b28-829c-31778f37089f"
      },
      "execution_count": null,
      "outputs": [
        {
          "output_type": "stream",
          "name": "stdout",
          "text": [
            "6 de espada\n",
            "2 de copas\n",
            "2 de copas\n",
            "3 de copas\n",
            "9 de ouros\n"
          ]
        }
      ]
    },
    {
      "cell_type": "markdown",
      "source": [
        "A primeira coisa que me veio a cabeça foi pensar em qual propriedade de python poderia selecionar um elemento aleatoriamente. Ao pesquisar descobri a random.choice. Na primeira tentativa de fazer o exercício percebi que estava ficando repetitivo demais criei 4 variáveis que recebiam 13 itens mas cheguei a conclusão que estava errado pois o refletindo pediu um programa que escolhesse cinco cartas e não apenas 4. Foi aí que percebi que deveria fazer algumas mudanças. Então decici criar apenas 1 variável de naipes e outra dos números para que pudesse fazer os cinco sorteio aleatórios."
      ],
      "metadata": {
        "id": "LpcnMlwF0cz-"
      }
    },
    {
      "cell_type": "code",
      "source": [
        "#USANDO PYTHON E RECURSO DE LISTA\n",
        "\n",
        "import random\n",
        "\n",
        "naipes = ['Copas', 'Espadas', 'Ouros', 'Paus']\n",
        "cartas = ['2', '3', '5', '6', '7', '8', '9', '10', 'Valete', 'Dama', 'Rei', 'Ás']\n",
        "baralho = []\n",
        "for naipe in naipes:\n",
        "  for carta in cartas:\n",
        "    baralho.append(f'{carta} de {naipe}')\n",
        "\n",
        "print(f'Há {len(baralho)} cartas no baralho.')\n",
        "print('Embaralhando ...')\n",
        "\n",
        "mao = []\n",
        "while len(mao) < 5:\n",
        "    item = random.choice(baralho)\n",
        "    baralho.remove(item)\n",
        "    mao.append(item)\n",
        "\n",
        "print(f'Há {len(baralho)} cartas no baralho.')\n",
        "print('As cartas dos jogadores são:')\n",
        "print(mao)"
      ],
      "metadata": {
        "id": "o3ngLANw7qKT",
        "colab": {
          "base_uri": "https://localhost:8080/"
        },
        "outputId": "5da039a7-b349-4a0c-c801-0edf9fa4fa02"
      },
      "execution_count": 61,
      "outputs": [
        {
          "output_type": "stream",
          "name": "stdout",
          "text": [
            "Há 48 cartas no baralho.\n",
            "Embaralhando ...\n",
            "Há 43 cartas no baralho.\n",
            "As cartas dos jogadores são:\n",
            "['9 de Copas', '6 de Ouros', 'Ás de Espadas', 'Rei de Paus', '8 de Paus']\n"
          ]
        }
      ]
    }
  ]
}